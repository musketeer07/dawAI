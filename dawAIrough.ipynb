{
 "cells": [
  {
   "cell_type": "code",
   "execution_count": 1,
   "metadata": {},
   "outputs": [],
   "source": [
    "import pandas as pd\n",
    "import numpy as np"
   ]
  },
  {
   "cell_type": "code",
   "execution_count": 2,
   "metadata": {},
   "outputs": [],
   "source": [
    "df=pd.read_csv(r'C:\\Users\\Kartikay Raheja\\Desktop\\Testing.csv')"
   ]
  },
  {
   "cell_type": "code",
   "execution_count": null,
   "metadata": {},
   "outputs": [],
   "source": []
  },
  {
   "cell_type": "code",
   "execution_count": 3,
   "metadata": {},
   "outputs": [],
   "source": [
    "df1=df"
   ]
  },
  {
   "cell_type": "code",
   "execution_count": null,
   "metadata": {},
   "outputs": [],
   "source": []
  },
  {
   "cell_type": "code",
   "execution_count": null,
   "metadata": {},
   "outputs": [],
   "source": []
  },
  {
   "cell_type": "code",
   "execution_count": 4,
   "metadata": {},
   "outputs": [],
   "source": [
    "df1.set_index(df1['prognosis'],inplace=True)"
   ]
  },
  {
   "cell_type": "code",
   "execution_count": 5,
   "metadata": {},
   "outputs": [],
   "source": [
    "df1=df1.transpose()"
   ]
  },
  {
   "cell_type": "code",
   "execution_count": 6,
   "metadata": {},
   "outputs": [],
   "source": [
    "#for i in range(0,len(df1.columns)):\n",
    " #   df2=df1.drop(df1.iloc[0:,i].where(df1.iloc[0:,i]==0))\n",
    "\n",
    "\n",
    "df1.columns = df1.columns.str.strip().str.lower().str.replace(' ', '_').str.replace('(', '').str.replace(')', '')\n"
   ]
  },
  {
   "cell_type": "code",
   "execution_count": null,
   "metadata": {},
   "outputs": [],
   "source": []
  },
  {
   "cell_type": "code",
   "execution_count": 7,
   "metadata": {
    "scrolled": false
   },
   "outputs": [
    {
     "data": {
      "text/html": [
       "<div>\n",
       "<style scoped>\n",
       "    .dataframe tbody tr th:only-of-type {\n",
       "        vertical-align: middle;\n",
       "    }\n",
       "\n",
       "    .dataframe tbody tr th {\n",
       "        vertical-align: top;\n",
       "    }\n",
       "\n",
       "    .dataframe thead th {\n",
       "        text-align: right;\n",
       "    }\n",
       "</style>\n",
       "<table border=\"1\" class=\"dataframe\">\n",
       "  <thead>\n",
       "    <tr style=\"text-align: right;\">\n",
       "      <th>prognosis</th>\n",
       "      <th>fungal_infection</th>\n",
       "      <th>allergy</th>\n",
       "      <th>gerd</th>\n",
       "      <th>chronic_cholestasis</th>\n",
       "      <th>drug_reaction</th>\n",
       "      <th>peptic_ulcer_diseae</th>\n",
       "      <th>aids</th>\n",
       "      <th>diabetes</th>\n",
       "      <th>gastroenteritis</th>\n",
       "      <th>bronchial_asthma</th>\n",
       "      <th>...</th>\n",
       "      <th>hyperthyroidism</th>\n",
       "      <th>hypoglycemia</th>\n",
       "      <th>osteoarthristis</th>\n",
       "      <th>arthritis</th>\n",
       "      <th>vertigo_paroymsal__positional_vertigo</th>\n",
       "      <th>acne</th>\n",
       "      <th>urinary_tract_infection</th>\n",
       "      <th>psoriasis</th>\n",
       "      <th>impetigo</th>\n",
       "      <th>nan</th>\n",
       "    </tr>\n",
       "  </thead>\n",
       "  <tbody>\n",
       "    <tr>\n",
       "      <th>itching</th>\n",
       "      <td>1</td>\n",
       "      <td>0</td>\n",
       "      <td>0</td>\n",
       "      <td>1</td>\n",
       "      <td>1</td>\n",
       "      <td>0</td>\n",
       "      <td>0</td>\n",
       "      <td>0</td>\n",
       "      <td>0</td>\n",
       "      <td>0</td>\n",
       "      <td>...</td>\n",
       "      <td>0</td>\n",
       "      <td>0</td>\n",
       "      <td>0</td>\n",
       "      <td>0</td>\n",
       "      <td>0</td>\n",
       "      <td>0</td>\n",
       "      <td>0</td>\n",
       "      <td>0</td>\n",
       "      <td>0</td>\n",
       "      <td>1</td>\n",
       "    </tr>\n",
       "    <tr>\n",
       "      <th>skin_rash</th>\n",
       "      <td>1</td>\n",
       "      <td>0</td>\n",
       "      <td>0</td>\n",
       "      <td>0</td>\n",
       "      <td>1</td>\n",
       "      <td>0</td>\n",
       "      <td>0</td>\n",
       "      <td>0</td>\n",
       "      <td>0</td>\n",
       "      <td>0</td>\n",
       "      <td>...</td>\n",
       "      <td>0</td>\n",
       "      <td>0</td>\n",
       "      <td>0</td>\n",
       "      <td>0</td>\n",
       "      <td>0</td>\n",
       "      <td>1</td>\n",
       "      <td>0</td>\n",
       "      <td>1</td>\n",
       "      <td>1</td>\n",
       "      <td>1</td>\n",
       "    </tr>\n",
       "    <tr>\n",
       "      <th>nodal_skin_eruptions</th>\n",
       "      <td>1</td>\n",
       "      <td>0</td>\n",
       "      <td>0</td>\n",
       "      <td>0</td>\n",
       "      <td>0</td>\n",
       "      <td>0</td>\n",
       "      <td>0</td>\n",
       "      <td>0</td>\n",
       "      <td>0</td>\n",
       "      <td>0</td>\n",
       "      <td>...</td>\n",
       "      <td>0</td>\n",
       "      <td>0</td>\n",
       "      <td>0</td>\n",
       "      <td>0</td>\n",
       "      <td>0</td>\n",
       "      <td>0</td>\n",
       "      <td>0</td>\n",
       "      <td>0</td>\n",
       "      <td>0</td>\n",
       "      <td>0</td>\n",
       "    </tr>\n",
       "    <tr>\n",
       "      <th>continuous_sneezing</th>\n",
       "      <td>0</td>\n",
       "      <td>1</td>\n",
       "      <td>0</td>\n",
       "      <td>0</td>\n",
       "      <td>0</td>\n",
       "      <td>0</td>\n",
       "      <td>0</td>\n",
       "      <td>0</td>\n",
       "      <td>0</td>\n",
       "      <td>0</td>\n",
       "      <td>...</td>\n",
       "      <td>0</td>\n",
       "      <td>0</td>\n",
       "      <td>0</td>\n",
       "      <td>0</td>\n",
       "      <td>0</td>\n",
       "      <td>0</td>\n",
       "      <td>0</td>\n",
       "      <td>0</td>\n",
       "      <td>0</td>\n",
       "      <td>0</td>\n",
       "    </tr>\n",
       "    <tr>\n",
       "      <th>shivering</th>\n",
       "      <td>0</td>\n",
       "      <td>1</td>\n",
       "      <td>0</td>\n",
       "      <td>0</td>\n",
       "      <td>0</td>\n",
       "      <td>0</td>\n",
       "      <td>0</td>\n",
       "      <td>0</td>\n",
       "      <td>0</td>\n",
       "      <td>0</td>\n",
       "      <td>...</td>\n",
       "      <td>0</td>\n",
       "      <td>0</td>\n",
       "      <td>0</td>\n",
       "      <td>0</td>\n",
       "      <td>0</td>\n",
       "      <td>0</td>\n",
       "      <td>0</td>\n",
       "      <td>0</td>\n",
       "      <td>0</td>\n",
       "      <td>0</td>\n",
       "    </tr>\n",
       "  </tbody>\n",
       "</table>\n",
       "<p>5 rows × 42 columns</p>\n",
       "</div>"
      ],
      "text/plain": [
       "prognosis            fungal_infection allergy gerd chronic_cholestasis  \\\n",
       "itching                             1       0    0                   1   \n",
       "skin_rash                           1       0    0                   0   \n",
       "nodal_skin_eruptions                1       0    0                   0   \n",
       "continuous_sneezing                 0       1    0                   0   \n",
       "shivering                           0       1    0                   0   \n",
       "\n",
       "prognosis            drug_reaction peptic_ulcer_diseae aids diabetes  \\\n",
       "itching                          1                   0    0        0   \n",
       "skin_rash                        1                   0    0        0   \n",
       "nodal_skin_eruptions             0                   0    0        0   \n",
       "continuous_sneezing              0                   0    0        0   \n",
       "shivering                        0                   0    0        0   \n",
       "\n",
       "prognosis            gastroenteritis bronchial_asthma ... hyperthyroidism  \\\n",
       "itching                            0                0 ...               0   \n",
       "skin_rash                          0                0 ...               0   \n",
       "nodal_skin_eruptions               0                0 ...               0   \n",
       "continuous_sneezing                0                0 ...               0   \n",
       "shivering                          0                0 ...               0   \n",
       "\n",
       "prognosis            hypoglycemia osteoarthristis arthritis  \\\n",
       "itching                         0               0         0   \n",
       "skin_rash                       0               0         0   \n",
       "nodal_skin_eruptions            0               0         0   \n",
       "continuous_sneezing             0               0         0   \n",
       "shivering                       0               0         0   \n",
       "\n",
       "prognosis            vertigo_paroymsal__positional_vertigo acne  \\\n",
       "itching                                                  0    0   \n",
       "skin_rash                                                0    1   \n",
       "nodal_skin_eruptions                                     0    0   \n",
       "continuous_sneezing                                      0    0   \n",
       "shivering                                                0    0   \n",
       "\n",
       "prognosis            urinary_tract_infection psoriasis impetigo NaN  \n",
       "itching                                    0         0        0   1  \n",
       "skin_rash                                  0         1        1   1  \n",
       "nodal_skin_eruptions                       0         0        0   0  \n",
       "continuous_sneezing                        0         0        0   0  \n",
       "shivering                                  0         0        0   0  \n",
       "\n",
       "[5 rows x 42 columns]"
      ]
     },
     "execution_count": 7,
     "metadata": {},
     "output_type": "execute_result"
    }
   ],
   "source": [
    "df1.head()"
   ]
  },
  {
   "cell_type": "code",
   "execution_count": 8,
   "metadata": {},
   "outputs": [
    {
     "ename": "NameError",
     "evalue": "name 'df2' is not defined",
     "output_type": "error",
     "traceback": [
      "\u001b[1;31m---------------------------------------------------------------------------\u001b[0m",
      "\u001b[1;31mNameError\u001b[0m                                 Traceback (most recent call last)",
      "\u001b[1;32m<ipython-input-8-db1105f14547>\u001b[0m in \u001b[0;36m<module>\u001b[1;34m()\u001b[0m\n\u001b[1;32m----> 1\u001b[1;33m \u001b[0mdf_ost\u001b[0m\u001b[1;33m=\u001b[0m\u001b[0mpd\u001b[0m\u001b[1;33m.\u001b[0m\u001b[0mDataFrame\u001b[0m\u001b[1;33m(\u001b[0m\u001b[0mdf2\u001b[0m\u001b[1;33m[\u001b[0m\u001b[1;34m'dengue'\u001b[0m\u001b[1;33m]\u001b[0m\u001b[1;33m.\u001b[0m\u001b[0mwhere\u001b[0m\u001b[1;33m(\u001b[0m\u001b[0mdf2\u001b[0m\u001b[1;33m[\u001b[0m\u001b[1;34m'dengue'\u001b[0m\u001b[1;33m]\u001b[0m\u001b[1;33m==\u001b[0m\u001b[1;36m1\u001b[0m\u001b[1;33m)\u001b[0m\u001b[1;33m.\u001b[0m\u001b[0mdropna\u001b[0m\u001b[1;33m(\u001b[0m\u001b[1;33m)\u001b[0m\u001b[1;33m)\u001b[0m\u001b[1;33m\u001b[0m\u001b[0m\n\u001b[0m\u001b[0;32m      2\u001b[0m \u001b[0mdf_ost\u001b[0m\u001b[1;33m\u001b[0m\u001b[0m\n",
      "\u001b[1;31mNameError\u001b[0m: name 'df2' is not defined"
     ]
    }
   ],
   "source": [
    "df_ost=pd.DataFrame(df2['dengue'].where(df2['dengue']==1).dropna())\n",
    "df_ost"
   ]
  },
  {
   "cell_type": "code",
   "execution_count": null,
   "metadata": {},
   "outputs": [],
   "source": [
    "pd.DataFrame(df2['malaria'].where(df2['malaria']==1).dropna() )"
   ]
  },
  {
   "cell_type": "code",
   "execution_count": null,
   "metadata": {},
   "outputs": [],
   "source": [
    "pd.DataFrame(df2['hypertension'].where(df2['hypertension']==1).dropna())"
   ]
  },
  {
   "cell_type": "code",
   "execution_count": null,
   "metadata": {},
   "outputs": [],
   "source": [
    "df_imp=pd.DataFrame(df2['impetigo'].where(df2['impetigo']==1).dropna())\n",
    "df_hyp=pd.DataFrame(df2['hypoglycemia'].where(df2['hypoglycemia']==1).dropna())"
   ]
  },
  {
   "cell_type": "code",
   "execution_count": null,
   "metadata": {},
   "outputs": [],
   "source": [
    "df_uti=pd.DataFrame(df2['urinary_tract_infection'].where(df2['urinary_tract_infection']==1).dropna())"
   ]
  },
  {
   "cell_type": "code",
   "execution_count": null,
   "metadata": {},
   "outputs": [],
   "source": [
    "df_ps=pd.DataFrame(df2['psoriasis'].where(df2['psoriasis']==1).dropna())"
   ]
  },
  {
   "cell_type": "code",
   "execution_count": null,
   "metadata": {
    "scrolled": true
   },
   "outputs": [],
   "source": [
    "df_acne=pd.DataFrame(df2['acne'].where(df2['acne']==1).dropna())"
   ]
  },
  {
   "cell_type": "code",
   "execution_count": null,
   "metadata": {},
   "outputs": [],
   "source": [
    "df_hyp"
   ]
  },
  {
   "cell_type": "code",
   "execution_count": null,
   "metadata": {},
   "outputs": [],
   "source": []
  },
  {
   "cell_type": "code",
   "execution_count": null,
   "metadata": {},
   "outputs": [],
   "source": []
  },
  {
   "cell_type": "code",
   "execution_count": null,
   "metadata": {},
   "outputs": [],
   "source": [
    "#df_proto=pd.concat([df_acne,df_arth,df_ost,df_ps,df_uti,df_vert,df_imp],axis=1)"
   ]
  },
  {
   "cell_type": "code",
   "execution_count": null,
   "metadata": {},
   "outputs": [],
   "source": [
    "#df_proto"
   ]
  },
  {
   "cell_type": "code",
   "execution_count": null,
   "metadata": {},
   "outputs": [],
   "source": [
    "#df_proto.fillna(value=0,inplace=True)"
   ]
  },
  {
   "cell_type": "code",
   "execution_count": null,
   "metadata": {},
   "outputs": [],
   "source": [
    "#df_proto=df_proto.T"
   ]
  },
  {
   "cell_type": "code",
   "execution_count": null,
   "metadata": {},
   "outputs": [],
   "source": [
    "#df_proto"
   ]
  },
  {
   "cell_type": "code",
   "execution_count": null,
   "metadata": {},
   "outputs": [],
   "source": []
  },
  {
   "cell_type": "code",
   "execution_count": null,
   "metadata": {},
   "outputs": [],
   "source": []
  },
  {
   "cell_type": "code",
   "execution_count": null,
   "metadata": {},
   "outputs": [],
   "source": []
  },
  {
   "cell_type": "code",
   "execution_count": null,
   "metadata": {},
   "outputs": [],
   "source": [
    "#df_proto.sum(axis=1)\n",
    "#df_proto.columns"
   ]
  },
  {
   "cell_type": "code",
   "execution_count": null,
   "metadata": {},
   "outputs": [],
   "source": [
    "summ=df.sum()"
   ]
  },
  {
   "cell_type": "code",
   "execution_count": null,
   "metadata": {},
   "outputs": [],
   "source": [
    "df_ost"
   ]
  },
  {
   "cell_type": "code",
   "execution_count": null,
   "metadata": {},
   "outputs": [],
   "source": []
  },
  {
   "cell_type": "code",
   "execution_count": null,
   "metadata": {},
   "outputs": [],
   "source": []
  },
  {
   "cell_type": "code",
   "execution_count": null,
   "metadata": {},
   "outputs": [],
   "source": []
  },
  {
   "cell_type": "code",
   "execution_count": null,
   "metadata": {},
   "outputs": [],
   "source": []
  },
  {
   "cell_type": "code",
   "execution_count": null,
   "metadata": {},
   "outputs": [],
   "source": []
  },
  {
   "cell_type": "code",
   "execution_count": null,
   "metadata": {},
   "outputs": [],
   "source": []
  },
  {
   "cell_type": "code",
   "execution_count": null,
   "metadata": {},
   "outputs": [],
   "source": []
  },
  {
   "cell_type": "code",
   "execution_count": null,
   "metadata": {},
   "outputs": [],
   "source": []
  },
  {
   "cell_type": "code",
   "execution_count": null,
   "metadata": {},
   "outputs": [],
   "source": []
  },
  {
   "cell_type": "code",
   "execution_count": 16,
   "metadata": {},
   "outputs": [],
   "source": [
    "def symptoms():\n",
    "    sym=str(input())\n",
    "    sym2=str(input())\n",
    "    #sym=str(input())\n",
    "    #sym_arr.append(sym)\n",
    "    '''if len(sym_arr)==1:\n",
    "        print('enter another symptom')\n",
    "        sym=str(input())\n",
    "        sym_arr.append(sym)\n",
    "        '''\n",
    "    #disease extraction\n",
    "    df_symp=pd.DataFrame(df[sym].where(df[sym]==1).dropna())\n",
    "    \n",
    "    df_symp=pd.DataFrame(df_symp)\n",
    "\n",
    "    #disease extraction\n",
    "    df_symp_try=pd.DataFrame(df[sym2].where(df[sym2]==1).dropna())\n",
    "    df_symp_try=pd.DataFrame(df_symp_try)\n",
    "    \n",
    "    #symptom extraction\n",
    "    #for x2 in df_symp_try.index:\n",
    "        #x2 = x2.strip().lower().replace(' ', '_')\n",
    "\n",
    "        #df_symp2_try=pd.DataFrame(df2[x2].where(df2[x2]==1).dropna())\n",
    "        #df_symp2_try=pd.DataFrame(df_symp2_try)\n",
    "    #symptom extraction\n",
    "    #for x in df_symp.index:\n",
    "     #   x = x.strip().lower().replace(' ', '_')\n",
    "      #  df_symp2=pd.DataFrame(df2[x].where(df2[x]==1).dropna())\n",
    "       # df_symp2=pd.DataFrame(df_symp2)\n",
    "        \n",
    "        \n",
    "    dis_arr=df_symp.index.intersection(df_symp_try.index)\n",
    "    \n",
    "    return dis_arr"
   ]
  },
  {
   "cell_type": "code",
   "execution_count": null,
   "metadata": {},
   "outputs": [],
   "source": []
  },
  {
   "cell_type": "code",
   "execution_count": null,
   "metadata": {},
   "outputs": [],
   "source": [
    "symptoms()"
   ]
  },
  {
   "cell_type": "code",
   "execution_count": 20,
   "metadata": {},
   "outputs": [],
   "source": [
    "def sym_z():\n",
    "    dis_arr=symptoms()\n",
    "    dis_arr = dis_arr.str.strip().str.lower().str.replace(' ', '_').str.replace('(', '').str.replace(')', '')\n",
    "    i=0\n",
    "    dis_num=[]\n",
    "    for i in range(len(df1.columns)):\n",
    "        for j in range(len(dis_arr)):\n",
    "            if dis_arr[j]==df1.columns[i]:\n",
    "                dis_num.append(i)\n",
    "    dis_symp=np.empty([0,len(dis_num)],dtype=object)\n",
    "    for i in range(0,len(dis_num)):\n",
    "        \n",
    "        dis_symp=np.union1d(dis_symp,np.array(pd.DataFrame(df1.iloc[:,dis_num[i]].where(df1.iloc[:,dis_num[i]]==1).dropna()).index))\n",
    "\n",
    "    dis_symp_inters=np.empty([0,len(dis_num)],dtype=object)\n",
    "    for i in range(0,len(dis_num)-1):\n",
    "        dis1=np.array(pd.DataFrame(df1.iloc[:,dis_num[i]].where(df1.iloc[:,dis_num[i]]==1).dropna()).index)\n",
    "        dis2=np.array(pd.DataFrame(df1.iloc[:,dis_num[i+1]].where(df1.iloc[:,dis_num[i+1]]==1).dropna()).index)\n",
    "        dis_symp_inters=np.union1d(dis_symp_inters, np.intersect1d(dis1,dis2))\n",
    "    return np.setdiff1d(dis_symp,dis_symp_inters)"
   ]
  },
  {
   "cell_type": "code",
   "execution_count": 21,
   "metadata": {},
   "outputs": [
    {
     "name": "stdout",
     "output_type": "stream",
     "text": [
      "nausea\n",
      "vomiting\n"
     ]
    },
    {
     "data": {
      "text/plain": [
       "array(['acute_liver_failure', 'anxiety', 'back_pain', 'belly_pain',\n",
       "       'blurred_and_distorted_vision', 'coma', 'constipation',\n",
       "       'drying_and_tingling_lips', 'excessive_hunger', 'irritability',\n",
       "       'itching', 'loss_of_balance', 'malaise', 'mild_fever',\n",
       "       'pain_behind_the_eyes', 'palpitations', 'red_spots_over_body',\n",
       "       'skin_rash', 'slurred_speech', 'spinning_movements',\n",
       "       'stomach_bleeding', 'sweating', 'toxic_look_(typhos)',\n",
       "       'unsteadiness'], dtype=object)"
      ]
     },
     "execution_count": 21,
     "metadata": {},
     "output_type": "execute_result"
    }
   ],
   "source": [
    "sym_z()"
   ]
  },
  {
   "cell_type": "code",
   "execution_count": null,
   "metadata": {},
   "outputs": [],
   "source": []
  },
  {
   "cell_type": "code",
   "execution_count": null,
   "metadata": {},
   "outputs": [],
   "source": [
    " class Node:\n",
    "        def __init__(self,data):\n",
    "            self.data=data\n",
    "            self.next=None\n",
    "class LinkedList:\n",
    "    def __init__(self):\n",
    "        self.head=None\n",
    "        \n",
    "    def insert(self,newnode):\n",
    "        if self.head is None:\n",
    "            self.head=newnode\n",
    "        else:\n",
    "            self.head.next=newnode\n",
    "    def display(self):\n",
    "        temp=self.head\n",
    "\n",
    "        while temp is not None:\n",
    "            print(temp.data)\n",
    "            temp=temp.next"
   ]
  },
  {
   "cell_type": "code",
   "execution_count": null,
   "metadata": {},
   "outputs": [],
   "source": []
  },
  {
   "cell_type": "code",
   "execution_count": null,
   "metadata": {},
   "outputs": [],
   "source": [
    "firstnode=Node(pd.DataFrame(df2['urinary_tract_infection'].where(df2['urinary_tract_infection']==1).dropna()).index)"
   ]
  },
  {
   "cell_type": "code",
   "execution_count": null,
   "metadata": {},
   "outputs": [],
   "source": [
    "linkedlist=LinkedList()"
   ]
  },
  {
   "cell_type": "code",
   "execution_count": null,
   "metadata": {},
   "outputs": [],
   "source": [
    "firstnode.data"
   ]
  },
  {
   "cell_type": "code",
   "execution_count": 10,
   "metadata": {},
   "outputs": [
    {
     "name": "stdout",
     "output_type": "stream",
     "text": [
      "nausea\n",
      "vomiting\n",
      "Index(['Chronic cholestasis', 'Malaria', 'Dengue', 'Typhoid', 'hepatitis A',\n",
      "       'Hepatitis D', 'Hepatitis E', 'Hypoglycemia',\n",
      "       '(vertigo) Paroymsal  Positional Vertigo'],\n",
      "      dtype='object', name='prognosis')\n",
      "Index(['Chronic cholestasis', 'Malaria', 'Dengue', 'Typhoid', 'hepatitis A',\n",
      "       'Hepatitis D', 'Hepatitis E', 'Hypoglycemia',\n",
      "       '(vertigo) Paroymsal  Positional Vertigo'],\n",
      "      dtype='object', name='prognosis')\n",
      "Index(['Chronic cholestasis', 'Malaria', 'Dengue', 'Typhoid', 'hepatitis A',\n",
      "       'Hepatitis D', 'Hepatitis E', 'Hypoglycemia',\n",
      "       '(vertigo) Paroymsal  Positional Vertigo'],\n",
      "      dtype='object', name='prognosis')\n"
     ]
    },
    {
     "data": {
      "text/html": [
       "<div>\n",
       "<style scoped>\n",
       "    .dataframe tbody tr th:only-of-type {\n",
       "        vertical-align: middle;\n",
       "    }\n",
       "\n",
       "    .dataframe tbody tr th {\n",
       "        vertical-align: top;\n",
       "    }\n",
       "\n",
       "    .dataframe thead th {\n",
       "        text-align: right;\n",
       "    }\n",
       "</style>\n",
       "<table border=\"1\" class=\"dataframe\">\n",
       "  <thead>\n",
       "    <tr style=\"text-align: right;\">\n",
       "      <th></th>\n",
       "      <th>0</th>\n",
       "    </tr>\n",
       "  </thead>\n",
       "  <tbody>\n",
       "    <tr>\n",
       "      <th>0</th>\n",
       "      <td>acute_liver_failure</td>\n",
       "    </tr>\n",
       "    <tr>\n",
       "      <th>1</th>\n",
       "      <td>anxiety</td>\n",
       "    </tr>\n",
       "    <tr>\n",
       "      <th>2</th>\n",
       "      <td>back_pain</td>\n",
       "    </tr>\n",
       "    <tr>\n",
       "      <th>3</th>\n",
       "      <td>belly_pain</td>\n",
       "    </tr>\n",
       "    <tr>\n",
       "      <th>4</th>\n",
       "      <td>blurred_and_distorted_vision</td>\n",
       "    </tr>\n",
       "    <tr>\n",
       "      <th>5</th>\n",
       "      <td>coma</td>\n",
       "    </tr>\n",
       "    <tr>\n",
       "      <th>6</th>\n",
       "      <td>constipation</td>\n",
       "    </tr>\n",
       "    <tr>\n",
       "      <th>7</th>\n",
       "      <td>drying_and_tingling_lips</td>\n",
       "    </tr>\n",
       "    <tr>\n",
       "      <th>8</th>\n",
       "      <td>excessive_hunger</td>\n",
       "    </tr>\n",
       "    <tr>\n",
       "      <th>9</th>\n",
       "      <td>irritability</td>\n",
       "    </tr>\n",
       "    <tr>\n",
       "      <th>10</th>\n",
       "      <td>itching</td>\n",
       "    </tr>\n",
       "    <tr>\n",
       "      <th>11</th>\n",
       "      <td>loss_of_balance</td>\n",
       "    </tr>\n",
       "    <tr>\n",
       "      <th>12</th>\n",
       "      <td>malaise</td>\n",
       "    </tr>\n",
       "    <tr>\n",
       "      <th>13</th>\n",
       "      <td>mild_fever</td>\n",
       "    </tr>\n",
       "    <tr>\n",
       "      <th>14</th>\n",
       "      <td>pain_behind_the_eyes</td>\n",
       "    </tr>\n",
       "    <tr>\n",
       "      <th>15</th>\n",
       "      <td>palpitations</td>\n",
       "    </tr>\n",
       "    <tr>\n",
       "      <th>16</th>\n",
       "      <td>red_spots_over_body</td>\n",
       "    </tr>\n",
       "    <tr>\n",
       "      <th>17</th>\n",
       "      <td>skin_rash</td>\n",
       "    </tr>\n",
       "    <tr>\n",
       "      <th>18</th>\n",
       "      <td>slurred_speech</td>\n",
       "    </tr>\n",
       "    <tr>\n",
       "      <th>19</th>\n",
       "      <td>spinning_movements</td>\n",
       "    </tr>\n",
       "    <tr>\n",
       "      <th>20</th>\n",
       "      <td>stomach_bleeding</td>\n",
       "    </tr>\n",
       "    <tr>\n",
       "      <th>21</th>\n",
       "      <td>sweating</td>\n",
       "    </tr>\n",
       "    <tr>\n",
       "      <th>22</th>\n",
       "      <td>toxic_look_(typhos)</td>\n",
       "    </tr>\n",
       "    <tr>\n",
       "      <th>23</th>\n",
       "      <td>unsteadiness</td>\n",
       "    </tr>\n",
       "  </tbody>\n",
       "</table>\n",
       "</div>"
      ],
      "text/plain": [
       "                               0\n",
       "0            acute_liver_failure\n",
       "1                        anxiety\n",
       "2                      back_pain\n",
       "3                     belly_pain\n",
       "4   blurred_and_distorted_vision\n",
       "5                           coma\n",
       "6                   constipation\n",
       "7       drying_and_tingling_lips\n",
       "8               excessive_hunger\n",
       "9                   irritability\n",
       "10                       itching\n",
       "11               loss_of_balance\n",
       "12                       malaise\n",
       "13                    mild_fever\n",
       "14          pain_behind_the_eyes\n",
       "15                  palpitations\n",
       "16           red_spots_over_body\n",
       "17                     skin_rash\n",
       "18                slurred_speech\n",
       "19            spinning_movements\n",
       "20              stomach_bleeding\n",
       "21                      sweating\n",
       "22           toxic_look_(typhos)\n",
       "23                  unsteadiness"
      ]
     },
     "execution_count": 10,
     "metadata": {},
     "output_type": "execute_result"
    }
   ],
   "source": [
    "import pandas as pd\n",
    "import numpy as np\n",
    "df=pd.read_csv(r'C:\\Users\\Kartikay Raheja\\Desktop\\Testing.csv')\n",
    "df1=df\n",
    "df1.set_index(df1['prognosis'],inplace=True)\n",
    "df1=df1.transpose()\n",
    "cols=df1.columns\n",
    "n=2\n",
    "df1.columns = df1.columns.str.strip().str.lower().str.replace(' ', '_').str.replace('(', '').str.replace(')', '')\n",
    "\n",
    "class LinkedList:\n",
    "    def __init__(self):\n",
    "        self.head = None\n",
    "\n",
    "    def insert(self, newnode):\n",
    "        if self.head is None:\n",
    "            self.head = newnode\n",
    "        else:\n",
    "            self.head.next = newnode\n",
    "    def display(self):\n",
    "        temp=self.head\n",
    "\n",
    "        while temp is not None:\n",
    "            print(temp.data)\n",
    "            temp=temp.next\n",
    "    def intersect(self):\n",
    "        temp=self.head.next\n",
    "        while temp is not None:\n",
    "            arr=self.head.data.intersection(temp.data)\n",
    "            temp=temp.next\n",
    "        print(arr)\n",
    "        return arr\n",
    "\n",
    "    def sym_z(self):\n",
    "        dis_arr = linklist.intersect()\n",
    "        dis_arr = dis_arr.str.strip().str.lower().str.replace(' ', '_').str.replace('(', '').str.replace(')', '')\n",
    "        i = 0\n",
    "        dis_num = []\n",
    "        for i in range(len(df1.columns)):\n",
    "            for j in range(len(dis_arr)):\n",
    "                if dis_arr[j] == df1.columns[i]:\n",
    "                    dis_num.append(i)\n",
    "        dis_symp = np.empty([0, len(dis_num)], dtype=object)\n",
    "        for i in range(0, len(dis_num)):\n",
    "            dis_symp = np.union1d(dis_symp, np.array(\n",
    "                pd.DataFrame(df1.iloc[:, dis_num[i]].where(df1.iloc[:, dis_num[i]] == 1).dropna()).index))\n",
    "\n",
    "        dis_symp_inters = np.empty([0, len(dis_num)], dtype=object)\n",
    "        for i in range(0, len(dis_num) - 1):\n",
    "            dis1 = np.array(pd.DataFrame(df1.iloc[:, dis_num[i]].where(df1.iloc[:, dis_num[i]] == 1).dropna()).index)\n",
    "            dis2 = np.array(\n",
    "                pd.DataFrame(df1.iloc[:, dis_num[i + 1]].where(df1.iloc[:, dis_num[i + 1]] == 1).dropna()).index)\n",
    "            dis_symp_inters = np.union1d(dis_symp_inters, np.intersect1d(dis1, dis2))\n",
    "        return np.setdiff1d(dis_symp, dis_symp_inters)\n",
    "\n",
    "\n",
    "linklist=LinkedList()\n",
    "\n",
    "class Node:\n",
    "    def __init__(self, data):\n",
    "        self.data = data\n",
    "        self.next=None\n",
    "\n",
    "\n",
    "\n",
    "\n",
    "\n",
    "\n",
    "for i in range(0,n):\n",
    "    sym=str(input())\n",
    "    node=linklist.insert(Node(pd.DataFrame(df[sym].where(df[sym] == 1).dropna()).index))\n",
    "\n",
    "linklist.intersect()\n",
    "linklist.sym_z()\n",
    "n+=1\n",
    "sym_arr=linklist.sym_z()\n",
    "sym_arr=pd.DataFrame(sym_arr,index=[n for n in range(0,len(sym_arr))])"
   ]
  },
  {
   "cell_type": "code",
   "execution_count": null,
   "metadata": {},
   "outputs": [],
   "source": [
    "sym_int()"
   ]
  },
  {
   "cell_type": "code",
   "execution_count": null,
   "metadata": {},
   "outputs": [],
   "source": [
    "df1=df1.transpose()\n",
    "cols=df1.columns\n",
    "#print(df1)\n",
    "n=2\n",
    "sym_arr=[]\n",
    "for i in range(0,n):\n",
    "    sym1=str(input())\n",
    "    sym_arr.append(sym1)\n",
    "for sym in sym_arr:\n",
    "    \n",
    "        dis_node=Node(pd.DataFrame(df[sym].where(df[sym]==1).dropna()).index)\n",
    "        LinkedList().insert(dis_node)\n",
    "        print(dis_node.data)\n"
   ]
  },
  {
   "cell_type": "code",
   "execution_count": null,
   "metadata": {},
   "outputs": [],
   "source": [
    "dis_node.data"
   ]
  },
  {
   "cell_type": "code",
   "execution_count": null,
   "metadata": {},
   "outputs": [],
   "source": [
    "cols=df1.columns\n",
    "#print(df1)\n",
    "n=2\n",
    "sym_arr=[]\n",
    "for i in range(0,n):\n",
    "    sym=str(input())\n",
    "    node=linkedlist.insert(Node(pd.DataFrame(df[sym].where(df[sym] == 1).dropna()).index))\n",
    "    linkedlist.display()"
   ]
  },
  {
   "cell_type": "code",
   "execution_count": null,
   "metadata": {},
   "outputs": [],
   "source": [
    "linkedlist.display()"
   ]
  },
  {
   "cell_type": "code",
   "execution_count": null,
   "metadata": {},
   "outputs": [],
   "source": []
  }
 ],
 "metadata": {
  "kernelspec": {
   "display_name": "Python 3",
   "language": "python",
   "name": "python3"
  },
  "language_info": {
   "codemirror_mode": {
    "name": "ipython",
    "version": 3
   },
   "file_extension": ".py",
   "mimetype": "text/x-python",
   "name": "python",
   "nbconvert_exporter": "python",
   "pygments_lexer": "ipython3",
   "version": "3.7.0"
  }
 },
 "nbformat": 4,
 "nbformat_minor": 2
}
